{
 "cells": [
  {
   "cell_type": "code",
   "execution_count": 3,
   "metadata": {},
   "outputs": [],
   "source": [
    "#!/usr/bin/env python\n",
    "\n",
    "\"\"\"\n",
    "Converts PDF text content (though not images containing text) to plain text, html, xml or \"tags\".\n",
    "\"\"\"\n",
    "import argparse\n",
    "import logging\n",
    "import six\n",
    "import sys\n",
    "import pdfminer.settings\n",
    "pdfminer.settings.STRICT = False\n",
    "import pdfminer.high_level\n",
    "import pdfminer.layout\n",
    "from pdfminer.image import ImageWriter\n",
    "\n",
    "\n",
    "def extract_text(files=[], outfile='-',\n",
    "            _py2_no_more_posargs=None,  # Bloody Python2 needs a shim\n",
    "            no_laparams=False, all_texts=None, detect_vertical=None, # LAParams\n",
    "            word_margin=None, char_margin=None, line_margin=None, boxes_flow=None, # LAParams\n",
    "            output_type='text', codec='utf-8', strip_control=False,\n",
    "            maxpages=0, page_numbers=None, password=\"\", scale=1.0, rotation=0,\n",
    "            layoutmode='normal', output_dir=None, debug=False,\n",
    "            disable_caching=False, **other):\n",
    "    if _py2_no_more_posargs is not None:\n",
    "        raise ValueError(\"Too many positional arguments passed.\")\n",
    "    if not files:\n",
    "        raise ValueError(\"Must provide files to work upon!\")\n",
    "\n",
    "    # If any LAParams group arguments were passed, create an LAParams object and\n",
    "    # populate with given args. Otherwise, set it to None.\n",
    "    if not no_laparams:\n",
    "        laparams = pdfminer.layout.LAParams()\n",
    "        for param in (\"all_texts\", \"detect_vertical\", \"word_margin\", \"char_margin\", \"line_margin\", \"boxes_flow\"):\n",
    "            paramv = locals().get(param, None)\n",
    "            if paramv is not None:\n",
    "                setattr(laparams, param, paramv)\n",
    "    else:\n",
    "        laparams = None\n",
    "\n",
    "    imagewriter = None\n",
    "    if output_dir:\n",
    "        imagewriter = ImageWriter(output_dir)\n",
    "\n",
    "    if output_type == \"text\" and outfile != \"-\":\n",
    "        for override, alttype in (  (\".htm\", \"html\"),\n",
    "                                    (\".html\", \"html\"),\n",
    "                                    (\".xml\", \"xml\"),\n",
    "                                    (\".tag\", \"tag\") ):\n",
    "            if outfile.endswith(override):\n",
    "                output_type = alttype\n",
    "\n",
    "    if outfile == \"-\":\n",
    "        outfp = sys.stdout\n",
    "        if outfp.encoding is not None:\n",
    "            codec = 'utf-8'\n",
    "    else:\n",
    "        outfp = open(outfile, \"wb\")\n",
    "\n",
    "\n",
    "    for fname in files:\n",
    "        with open(fname, \"rb\") as fp:\n",
    "            pdfminer.high_level.extract_text_to_fp(fp, **locals())\n",
    "    return outfp\n",
    "\n"
   ]
  },
  {
   "cell_type": "code",
   "execution_count": 2,
   "metadata": {},
   "outputs": [
    {
     "name": "stdout",
     "output_type": "stream",
     "text": [
      "Collecting pdfminer.six\n",
      "  Using cached pdfminer.six-20201018-py3-none-any.whl (5.6 MB)\n",
      "Requirement already satisfied: cryptography in c:\\users\\rushi\\anaconda3\\lib\\site-packages (from pdfminer.six) (2.9.2)\n",
      "Note: you may need to restart the kernel to use updated packages.Requirement already satisfied: chardet; python_version > \"3.0\" in c:\\users\\rushi\\anaconda3\\lib\\site-packages (from pdfminer.six) (3.0.4)\n",
      "Requirement already satisfied: sortedcontainers in c:\\users\\rushi\\anaconda3\\lib\\site-packages (from pdfminer.six) (2.2.2)\n",
      "Requirement already satisfied: six>=1.4.1 in c:\\users\\rushi\\appdata\\roaming\\python\\python38\\site-packages (from cryptography->pdfminer.six) (1.15.0)\n",
      "Requirement already satisfied: cffi!=1.11.3,>=1.8 in c:\\users\\rushi\\anaconda3\\lib\\site-packages (from cryptography->pdfminer.six) (1.14.0)\n",
      "Requirement already satisfied: pycparser in c:\\users\\rushi\\anaconda3\\lib\\site-packages (from cffi!=1.11.3,>=1.8->cryptography->pdfminer.six) (2.20)\n",
      "Installing collected packages: pdfminer.six\n",
      "Successfully installed pdfminer.six-20201018\n",
      "\n"
     ]
    }
   ],
   "source": [
    "pip install pdfminer.six"
   ]
  },
  {
   "cell_type": "code",
   "execution_count": 5,
   "metadata": {},
   "outputs": [
    {
     "name": "stdout",
     "output_type": "stream",
     "text": [
      "<module 'ntpath' from 'C:\\\\Users\\\\rushi\\\\anaconda3\\\\lib\\\\ntpath.py'>Automobile-1T00218.pdf.txt\n",
      "['./pdf/Automobile-1T00218.pdf']\n"
     ]
    },
    {
     "ename": "OSError",
     "evalue": "[Errno 22] Invalid argument: \"<module 'ntpath' from 'C:\\\\\\\\Users\\\\\\\\rushi\\\\\\\\anaconda3\\\\\\\\lib\\\\\\\\ntpath.py'>Automobile-1T00218.pdf.txt\"",
     "output_type": "error",
     "traceback": [
      "\u001b[1;31m---------------------------------------------------------------------------\u001b[0m",
      "\u001b[1;31mOSError\u001b[0m                                   Traceback (most recent call last)",
      "\u001b[1;32m<ipython-input-5-a9ddf50e5f16>\u001b[0m in \u001b[0;36m<module>\u001b[1;34m\u001b[0m\n\u001b[0;32m      9\u001b[0m \u001b[1;33m\u001b[0m\u001b[0m\n\u001b[0;32m     10\u001b[0m         \u001b[0mprint\u001b[0m\u001b[1;33m(\u001b[0m\u001b[0mfiles\u001b[0m\u001b[1;33m)\u001b[0m\u001b[1;33m\u001b[0m\u001b[1;33m\u001b[0m\u001b[0m\n\u001b[1;32m---> 11\u001b[1;33m         \u001b[0mextract_text\u001b[0m\u001b[1;33m(\u001b[0m\u001b[0mfiles\u001b[0m\u001b[1;33m=\u001b[0m\u001b[0mfiles\u001b[0m\u001b[1;33m,\u001b[0m\u001b[0moutfile\u001b[0m\u001b[1;33m=\u001b[0m\u001b[0moutfile\u001b[0m\u001b[1;33m)\u001b[0m\u001b[1;33m\u001b[0m\u001b[1;33m\u001b[0m\u001b[0m\n\u001b[0m",
      "\u001b[1;32m<ipython-input-3-c94db733b376>\u001b[0m in \u001b[0;36mextract_text\u001b[1;34m(files, outfile, _py2_no_more_posargs, no_laparams, all_texts, detect_vertical, word_margin, char_margin, line_margin, boxes_flow, output_type, codec, strip_control, maxpages, page_numbers, password, scale, rotation, layoutmode, output_dir, debug, disable_caching, **other)\u001b[0m\n\u001b[0;32m     56\u001b[0m             \u001b[0mcodec\u001b[0m \u001b[1;33m=\u001b[0m \u001b[1;34m'utf-8'\u001b[0m\u001b[1;33m\u001b[0m\u001b[1;33m\u001b[0m\u001b[0m\n\u001b[0;32m     57\u001b[0m     \u001b[1;32melse\u001b[0m\u001b[1;33m:\u001b[0m\u001b[1;33m\u001b[0m\u001b[1;33m\u001b[0m\u001b[0m\n\u001b[1;32m---> 58\u001b[1;33m         \u001b[0moutfp\u001b[0m \u001b[1;33m=\u001b[0m \u001b[0mopen\u001b[0m\u001b[1;33m(\u001b[0m\u001b[0moutfile\u001b[0m\u001b[1;33m,\u001b[0m \u001b[1;34m\"wb\"\u001b[0m\u001b[1;33m)\u001b[0m\u001b[1;33m\u001b[0m\u001b[1;33m\u001b[0m\u001b[0m\n\u001b[0m\u001b[0;32m     59\u001b[0m \u001b[1;33m\u001b[0m\u001b[0m\n\u001b[0;32m     60\u001b[0m \u001b[1;33m\u001b[0m\u001b[0m\n",
      "\u001b[1;31mOSError\u001b[0m: [Errno 22] Invalid argument: \"<module 'ntpath' from 'C:\\\\\\\\Users\\\\\\\\rushi\\\\\\\\anaconda3\\\\\\\\lib\\\\\\\\ntpath.py'>Automobile-1T00218.pdf.txt\""
     ]
    }
   ],
   "source": [
    "import os\n",
    "#loop to pass all file to function and process\n",
    "for file in os.listdir(\"./pdf/\"):\n",
    "    if file.endswith(\".pdf\"):\n",
    "        files = []\n",
    "        outfile =  './txt/'+ file + '.txt'\n",
    "        print(outfile)\n",
    "        files.append(os.path.join(\"./pdf/\", file))\n",
    "        \n",
    "        print(files)\n",
    "        extract_text(files=files,outfile=outfile)"
   ]
  },
  {
   "cell_type": "code",
   "execution_count": null,
   "metadata": {},
   "outputs": [],
   "source": []
  }
 ],
 "metadata": {
  "kernelspec": {
   "display_name": "Python 3",
   "language": "python",
   "name": "python3"
  },
  "language_info": {
   "codemirror_mode": {
    "name": "ipython",
    "version": 3
   },
   "file_extension": ".py",
   "mimetype": "text/x-python",
   "name": "python",
   "nbconvert_exporter": "python",
   "pygments_lexer": "ipython3",
   "version": "3.8.3"
  }
 },
 "nbformat": 4,
 "nbformat_minor": 2
}
