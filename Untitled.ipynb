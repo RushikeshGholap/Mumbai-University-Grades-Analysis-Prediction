{
 "cells": [
  {
   "cell_type": "code",
   "execution_count": 2,
   "metadata": {},
   "outputs": [],
   "source": [
    "import streamlit as st\n",
    "\n",
    "st.title(\"The Title for my App\")\n",
    "st.header(\"A Header\")\n",
    "st.subheader(\"A Subheader\")"
   ]
  },
  {
   "cell_type": "code",
   "execution_count": 4,
   "metadata": {},
   "outputs": [
    {
     "name": "stdout",
     "output_type": "stream",
     "text": [
      "Collecting streamlit-theme\n",
      "  Downloading https://files.pythonhosted.org/packages/55/d8/7e3bd73d525e36faa6eced96f455e503fb03fdeadcef4259c1619fd035ad/streamlit_theme-0.58.0.tar.gz\n",
      "Requirement already satisfied: streamlit>=0.58.0 in c:\\users\\rushi\\anaconda3\\lib\\site-packages (from streamlit-theme) (0.64.0)\n",
      "Requirement already satisfied: cachetools>=4.0 in c:\\users\\rushi\\anaconda3\\lib\\site-packages (from streamlit>=0.58.0->streamlit-theme) (4.1.1)\n",
      "Requirement already satisfied: base58 in c:\\users\\rushi\\anaconda3\\lib\\site-packages (from streamlit>=0.58.0->streamlit-theme) (2.0.1)\n",
      "Requirement already satisfied: botocore>=1.13.44 in c:\\users\\rushi\\anaconda3\\lib\\site-packages (from streamlit>=0.58.0->streamlit-theme) (1.17.33)\n",
      "Requirement already satisfied: requests in c:\\users\\rushi\\anaconda3\\lib\\site-packages (from streamlit>=0.58.0->streamlit-theme) (2.22.0)\n",
      "Requirement already satisfied: enum-compat in c:\\users\\rushi\\anaconda3\\lib\\site-packages (from streamlit>=0.58.0->streamlit-theme) (0.0.3)\n",
      "Requirement already satisfied: toml in c:\\users\\rushi\\anaconda3\\lib\\site-packages (from streamlit>=0.58.0->streamlit-theme) (0.10.1)\n",
      "Requirement already satisfied: pillow>=6.2.0 in c:\\users\\rushi\\anaconda3\\lib\\site-packages (from streamlit>=0.58.0->streamlit-theme) (6.2.0)\n",
      "Requirement already satisfied: altair>=3.2.0 in c:\\users\\rushi\\anaconda3\\lib\\site-packages (from streamlit>=0.58.0->streamlit-theme) (4.1.0)\n",
      "Requirement already satisfied: boto3 in c:\\users\\rushi\\anaconda3\\lib\\site-packages (from streamlit>=0.58.0->streamlit-theme) (1.14.33)\n",
      "Requirement already satisfied: blinker in c:\\users\\rushi\\anaconda3\\lib\\site-packages (from streamlit>=0.58.0->streamlit-theme) (1.4)\n",
      "Requirement already satisfied: pyarrow in c:\\users\\rushi\\anaconda3\\lib\\site-packages (from streamlit>=0.58.0->streamlit-theme) (1.0.0)\n",
      "Requirement already satisfied: numpy in c:\\users\\rushi\\anaconda3\\lib\\site-packages (from streamlit>=0.58.0->streamlit-theme) (1.16.5)\n",
      "Requirement already satisfied: tzlocal in c:\\users\\rushi\\anaconda3\\lib\\site-packages (from streamlit>=0.58.0->streamlit-theme) (2.1)\n",
      "Requirement already satisfied: python-dateutil in c:\\users\\rushi\\anaconda3\\lib\\site-packages (from streamlit>=0.58.0->streamlit-theme) (2.8.0)\n",
      "Requirement already satisfied: tornado>=5.0 in c:\\users\\rushi\\anaconda3\\lib\\site-packages (from streamlit>=0.58.0->streamlit-theme) (6.0.3)\n",
      "Requirement already satisfied: pandas>=0.21.0 in c:\\users\\rushi\\anaconda3\\lib\\site-packages (from streamlit>=0.58.0->streamlit-theme) (0.25.1)\n",
      "Requirement already satisfied: protobuf>=3.6.0 in c:\\users\\rushi\\anaconda3\\lib\\site-packages (from streamlit>=0.58.0->streamlit-theme) (3.12.4)\n",
      "Requirement already satisfied: click>=7.0 in c:\\users\\rushi\\anaconda3\\lib\\site-packages (from streamlit>=0.58.0->streamlit-theme) (7.0)\n",
      "Requirement already satisfied: watchdog in c:\\users\\rushi\\anaconda3\\lib\\site-packages (from streamlit>=0.58.0->streamlit-theme) (0.10.3)\n",
      "Requirement already satisfied: pydeck>=0.1.dev5 in c:\\users\\rushi\\anaconda3\\lib\\site-packages (from streamlit>=0.58.0->streamlit-theme) (0.4.0)\n",
      "Requirement already satisfied: validators in c:\\users\\rushi\\anaconda3\\lib\\site-packages (from streamlit>=0.58.0->streamlit-theme) (0.17.0)\n",
      "Requirement already satisfied: astor in c:\\users\\rushi\\anaconda3\\lib\\site-packages (from streamlit>=0.58.0->streamlit-theme) (0.8.1)\n",
      "Requirement already satisfied: packaging in c:\\users\\rushi\\anaconda3\\lib\\site-packages (from streamlit>=0.58.0->streamlit-theme) (19.2)\n",
      "Requirement already satisfied: urllib3<1.26,>=1.20; python_version != \"3.4\" in c:\\users\\rushi\\anaconda3\\lib\\site-packages (from botocore>=1.13.44->streamlit>=0.58.0->streamlit-theme) (1.24.2)\n",
      "Requirement already satisfied: jmespath<1.0.0,>=0.7.1 in c:\\users\\rushi\\anaconda3\\lib\\site-packages (from botocore>=1.13.44->streamlit>=0.58.0->streamlit-theme) (0.10.0)\n",
      "Requirement already satisfied: docutils<0.16,>=0.10 in c:\\users\\rushi\\anaconda3\\lib\\site-packages (from botocore>=1.13.44->streamlit>=0.58.0->streamlit-theme) (0.15.2)\n",
      "Requirement already satisfied: idna<2.9,>=2.5 in c:\\users\\rushi\\anaconda3\\lib\\site-packages (from requests->streamlit>=0.58.0->streamlit-theme) (2.8)\n",
      "Requirement already satisfied: chardet<3.1.0,>=3.0.2 in c:\\users\\rushi\\anaconda3\\lib\\site-packages (from requests->streamlit>=0.58.0->streamlit-theme) (3.0.4)\n",
      "Requirement already satisfied: certifi>=2017.4.17 in c:\\users\\rushi\\anaconda3\\lib\\site-packages (from requests->streamlit>=0.58.0->streamlit-theme) (2019.9.11)\n",
      "Requirement already satisfied: jsonschema in c:\\users\\rushi\\anaconda3\\lib\\site-packages (from altair>=3.2.0->streamlit>=0.58.0->streamlit-theme) (3.0.2)\n",
      "Requirement already satisfied: toolz in c:\\users\\rushi\\anaconda3\\lib\\site-packages (from altair>=3.2.0->streamlit>=0.58.0->streamlit-theme) (0.10.0)\n",
      "Requirement already satisfied: entrypoints in c:\\users\\rushi\\anaconda3\\lib\\site-packages (from altair>=3.2.0->streamlit>=0.58.0->streamlit-theme) (0.3)\n",
      "Requirement already satisfied: jinja2 in c:\\users\\rushi\\anaconda3\\lib\\site-packages (from altair>=3.2.0->streamlit>=0.58.0->streamlit-theme) (2.10.3)\n",
      "Requirement already satisfied: s3transfer<0.4.0,>=0.3.0 in c:\\users\\rushi\\anaconda3\\lib\\site-packages (from boto3->streamlit>=0.58.0->streamlit-theme) (0.3.3)\n",
      "Requirement already satisfied: pytz in c:\\users\\rushi\\anaconda3\\lib\\site-packages (from tzlocal->streamlit>=0.58.0->streamlit-theme) (2019.3)\n",
      "Requirement already satisfied: six>=1.5 in c:\\users\\rushi\\anaconda3\\lib\\site-packages (from python-dateutil->streamlit>=0.58.0->streamlit-theme) (1.12.0)\n",
      "Requirement already satisfied: setuptools in c:\\users\\rushi\\anaconda3\\lib\\site-packages (from protobuf>=3.6.0->streamlit>=0.58.0->streamlit-theme) (41.4.0)\n",
      "Requirement already satisfied: pathtools>=0.1.1 in c:\\users\\rushi\\anaconda3\\lib\\site-packages (from watchdog->streamlit>=0.58.0->streamlit-theme) (0.1.2)\n",
      "Requirement already satisfied: ipykernel>=5.1.2; python_version >= \"3.4\" in c:\\users\\rushi\\anaconda3\\lib\\site-packages (from pydeck>=0.1.dev5->streamlit>=0.58.0->streamlit-theme) (5.1.2)\n",
      "Requirement already satisfied: traitlets>=4.3.2 in c:\\users\\rushi\\anaconda3\\lib\\site-packages (from pydeck>=0.1.dev5->streamlit>=0.58.0->streamlit-theme) (4.3.3)\n",
      "Requirement already satisfied: ipywidgets>=7.0.0 in c:\\users\\rushi\\anaconda3\\lib\\site-packages (from pydeck>=0.1.dev5->streamlit>=0.58.0->streamlit-theme) (7.5.1)\n",
      "Requirement already satisfied: decorator>=3.4.0 in c:\\users\\rushi\\anaconda3\\lib\\site-packages (from validators->streamlit>=0.58.0->streamlit-theme) (4.4.0)\n",
      "Requirement already satisfied: pyparsing>=2.0.2 in c:\\users\\rushi\\anaconda3\\lib\\site-packages (from packaging->streamlit>=0.58.0->streamlit-theme) (2.4.2)\n",
      "Requirement already satisfied: pyrsistent>=0.14.0 in c:\\users\\rushi\\anaconda3\\lib\\site-packages (from jsonschema->altair>=3.2.0->streamlit>=0.58.0->streamlit-theme) (0.15.4)\n",
      "Requirement already satisfied: attrs>=17.4.0 in c:\\users\\rushi\\anaconda3\\lib\\site-packages (from jsonschema->altair>=3.2.0->streamlit>=0.58.0->streamlit-theme) (19.2.0)\n",
      "Requirement already satisfied: MarkupSafe>=0.23 in c:\\users\\rushi\\anaconda3\\lib\\site-packages (from jinja2->altair>=3.2.0->streamlit>=0.58.0->streamlit-theme) (1.1.1)\n",
      "Requirement already satisfied: jupyter-client in c:\\users\\rushi\\anaconda3\\lib\\site-packages (from ipykernel>=5.1.2; python_version >= \"3.4\"->pydeck>=0.1.dev5->streamlit>=0.58.0->streamlit-theme) (5.3.3)\n",
      "Requirement already satisfied: ipython>=5.0.0 in c:\\users\\rushi\\anaconda3\\lib\\site-packages (from ipykernel>=5.1.2; python_version >= \"3.4\"->pydeck>=0.1.dev5->streamlit>=0.58.0->streamlit-theme) (7.8.0)\n",
      "Requirement already satisfied: ipython-genutils in c:\\users\\rushi\\anaconda3\\lib\\site-packages (from traitlets>=4.3.2->pydeck>=0.1.dev5->streamlit>=0.58.0->streamlit-theme) (0.2.0)\n",
      "Requirement already satisfied: nbformat>=4.2.0 in c:\\users\\rushi\\anaconda3\\lib\\site-packages (from ipywidgets>=7.0.0->pydeck>=0.1.dev5->streamlit>=0.58.0->streamlit-theme) (4.4.0)\n",
      "Requirement already satisfied: widgetsnbextension~=3.5.0 in c:\\users\\rushi\\anaconda3\\lib\\site-packages (from ipywidgets>=7.0.0->pydeck>=0.1.dev5->streamlit>=0.58.0->streamlit-theme) (3.5.1)\n",
      "Requirement already satisfied: jupyter-core in c:\\users\\rushi\\anaconda3\\lib\\site-packages (from jupyter-client->ipykernel>=5.1.2; python_version >= \"3.4\"->pydeck>=0.1.dev5->streamlit>=0.58.0->streamlit-theme) (4.5.0)\n",
      "Requirement already satisfied: pywin32>=1.0; sys_platform == \"win32\" in c:\\users\\rushi\\anaconda3\\lib\\site-packages (from jupyter-client->ipykernel>=5.1.2; python_version >= \"3.4\"->pydeck>=0.1.dev5->streamlit>=0.58.0->streamlit-theme) (223)\n",
      "Requirement already satisfied: pyzmq>=13 in c:\\users\\rushi\\anaconda3\\lib\\site-packages (from jupyter-client->ipykernel>=5.1.2; python_version >= \"3.4\"->pydeck>=0.1.dev5->streamlit>=0.58.0->streamlit-theme) (18.1.0)\n",
      "Requirement already satisfied: backcall in c:\\users\\rushi\\anaconda3\\lib\\site-packages (from ipython>=5.0.0->ipykernel>=5.1.2; python_version >= \"3.4\"->pydeck>=0.1.dev5->streamlit>=0.58.0->streamlit-theme) (0.1.0)\n",
      "Requirement already satisfied: prompt-toolkit<2.1.0,>=2.0.0 in c:\\users\\rushi\\anaconda3\\lib\\site-packages (from ipython>=5.0.0->ipykernel>=5.1.2; python_version >= \"3.4\"->pydeck>=0.1.dev5->streamlit>=0.58.0->streamlit-theme) (2.0.10)\n",
      "Requirement already satisfied: jedi>=0.10 in c:\\users\\rushi\\anaconda3\\lib\\site-packages (from ipython>=5.0.0->ipykernel>=5.1.2; python_version >= \"3.4\"->pydeck>=0.1.dev5->streamlit>=0.58.0->streamlit-theme) (0.15.1)\n",
      "Requirement already satisfied: colorama; sys_platform == \"win32\" in c:\\users\\rushi\\anaconda3\\lib\\site-packages (from ipython>=5.0.0->ipykernel>=5.1.2; python_version >= \"3.4\"->pydeck>=0.1.dev5->streamlit>=0.58.0->streamlit-theme) (0.4.1)\n",
      "Requirement already satisfied: pygments in c:\\users\\rushi\\anaconda3\\lib\\site-packages (from ipython>=5.0.0->ipykernel>=5.1.2; python_version >= \"3.4\"->pydeck>=0.1.dev5->streamlit>=0.58.0->streamlit-theme) (2.4.2)\n",
      "Requirement already satisfied: pickleshare in c:\\users\\rushi\\anaconda3\\lib\\site-packages (from ipython>=5.0.0->ipykernel>=5.1.2; python_version >= \"3.4\"->pydeck>=0.1.dev5->streamlit>=0.58.0->streamlit-theme) (0.7.5)\n",
      "Requirement already satisfied: notebook>=4.4.1 in c:\\users\\rushi\\anaconda3\\lib\\site-packages (from widgetsnbextension~=3.5.0->ipywidgets>=7.0.0->pydeck>=0.1.dev5->streamlit>=0.58.0->streamlit-theme) (6.0.1)\n",
      "Requirement already satisfied: wcwidth in c:\\users\\rushi\\anaconda3\\lib\\site-packages (from prompt-toolkit<2.1.0,>=2.0.0->ipython>=5.0.0->ipykernel>=5.1.2; python_version >= \"3.4\"->pydeck>=0.1.dev5->streamlit>=0.58.0->streamlit-theme) (0.1.7)\n",
      "Requirement already satisfied: parso>=0.5.0 in c:\\users\\rushi\\anaconda3\\lib\\site-packages (from jedi>=0.10->ipython>=5.0.0->ipykernel>=5.1.2; python_version >= \"3.4\"->pydeck>=0.1.dev5->streamlit>=0.58.0->streamlit-theme) (0.5.1)\n",
      "Requirement already satisfied: prometheus-client in c:\\users\\rushi\\anaconda3\\lib\\site-packages (from notebook>=4.4.1->widgetsnbextension~=3.5.0->ipywidgets>=7.0.0->pydeck>=0.1.dev5->streamlit>=0.58.0->streamlit-theme) (0.7.1)\n",
      "Requirement already satisfied: nbconvert in c:\\users\\rushi\\anaconda3\\lib\\site-packages (from notebook>=4.4.1->widgetsnbextension~=3.5.0->ipywidgets>=7.0.0->pydeck>=0.1.dev5->streamlit>=0.58.0->streamlit-theme) (5.6.0)\n",
      "Requirement already satisfied: Send2Trash in c:\\users\\rushi\\anaconda3\\lib\\site-packages (from notebook>=4.4.1->widgetsnbextension~=3.5.0->ipywidgets>=7.0.0->pydeck>=0.1.dev5->streamlit>=0.58.0->streamlit-theme) (1.5.0)\n",
      "Requirement already satisfied: terminado>=0.8.1 in c:\\users\\rushi\\anaconda3\\lib\\site-packages (from notebook>=4.4.1->widgetsnbextension~=3.5.0->ipywidgets>=7.0.0->pydeck>=0.1.dev5->streamlit>=0.58.0->streamlit-theme) (0.8.2)\n",
      "Requirement already satisfied: bleach in c:\\users\\rushi\\anaconda3\\lib\\site-packages (from nbconvert->notebook>=4.4.1->widgetsnbextension~=3.5.0->ipywidgets>=7.0.0->pydeck>=0.1.dev5->streamlit>=0.58.0->streamlit-theme) (3.1.0)\n",
      "Requirement already satisfied: pandocfilters>=1.4.1 in c:\\users\\rushi\\anaconda3\\lib\\site-packages (from nbconvert->notebook>=4.4.1->widgetsnbextension~=3.5.0->ipywidgets>=7.0.0->pydeck>=0.1.dev5->streamlit>=0.58.0->streamlit-theme) (1.4.2)\n",
      "Requirement already satisfied: defusedxml in c:\\users\\rushi\\anaconda3\\lib\\site-packages (from nbconvert->notebook>=4.4.1->widgetsnbextension~=3.5.0->ipywidgets>=7.0.0->pydeck>=0.1.dev5->streamlit>=0.58.0->streamlit-theme) (0.6.0)\n",
      "Requirement already satisfied: mistune<2,>=0.8.1 in c:\\users\\rushi\\anaconda3\\lib\\site-packages (from nbconvert->notebook>=4.4.1->widgetsnbextension~=3.5.0->ipywidgets>=7.0.0->pydeck>=0.1.dev5->streamlit>=0.58.0->streamlit-theme) (0.8.4)\n",
      "Requirement already satisfied: testpath in c:\\users\\rushi\\anaconda3\\lib\\site-packages (from nbconvert->notebook>=4.4.1->widgetsnbextension~=3.5.0->ipywidgets>=7.0.0->pydeck>=0.1.dev5->streamlit>=0.58.0->streamlit-theme) (0.4.2)\n",
      "Requirement already satisfied: webencodings in c:\\users\\rushi\\anaconda3\\lib\\site-packages (from bleach->nbconvert->notebook>=4.4.1->widgetsnbextension~=3.5.0->ipywidgets>=7.0.0->pydeck>=0.1.dev5->streamlit>=0.58.0->streamlit-theme) (0.5.1)\n",
      "Building wheels for collected packages: streamlit-theme\n",
      "  Building wheel for streamlit-theme (setup.py): started\n",
      "  Building wheel for streamlit-theme (setup.py): finished with status 'done'\n",
      "  Created wheel for streamlit-theme: filename=streamlit_theme-0.58.0-py2.py3-none-any.whl size=4907 sha256=b159e13db1274c557f02b2a1dba7e3a3e5ad3b5075b9db5153bc75db26380aeb\n",
      "  Stored in directory: C:\\Users\\rushi\\AppData\\Local\\pip\\Cache\\wheels\\1e\\3f\\1f\\218aea86543a6cbba6a0aa1d28b623487a4d5916bc47ad3df5\n",
      "Successfully built streamlit-theme\n",
      "Installing collected packages: streamlit-theme\n",
      "Successfully installed streamlit-theme-0.58.0\n",
      "Note: you may need to restart the kernel to use updated packages.\n"
     ]
    }
   ],
   "source": [
    "pip install streamlit-theme\n"
   ]
  },
  {
   "cell_type": "code",
   "execution_count": null,
   "metadata": {},
   "outputs": [],
   "source": []
  }
 ],
 "metadata": {
  "kernelspec": {
   "display_name": "Python 3",
   "language": "python",
   "name": "python3"
  },
  "language_info": {
   "codemirror_mode": {
    "name": "ipython",
    "version": 3
   },
   "file_extension": ".py",
   "mimetype": "text/x-python",
   "name": "python",
   "nbconvert_exporter": "python",
   "pygments_lexer": "ipython3",
   "version": "3.7.4"
  }
 },
 "nbformat": 4,
 "nbformat_minor": 2
}
