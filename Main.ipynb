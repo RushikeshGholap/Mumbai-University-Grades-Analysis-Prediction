{
 "cells": [
  {
   "cell_type": "markdown",
   "metadata": {},
   "source": [
    "# EDA & Model implementation "
   ]
  },
  {
   "cell_type": "code",
   "execution_count": 7,
   "metadata": {},
   "outputs": [],
   "source": [
    "\n",
    "from sklearn.model_selection import train_test_split \n",
    "from sklearn.linear_model import LinearRegression\n",
    "from sklearn import metrics\n",
    "from sklearn.metrics import r2_score,max_error\n",
    "import numpy as np\n",
    "import pandas as pd\n",
    "import re\n",
    "import matplotlib.pyplot as plt \n",
    "import seaborn as sns\n",
    "%matplotlib inline\n",
    "pd.set_option('display.max_columns', None)\n",
    "pd.set_option('display.max_rows', None)\n"
   ]
  },
  {
   "cell_type": "code",
   "execution_count": null,
   "metadata": {},
   "outputs": [],
   "source": []
  },
  {
   "cell_type": "code",
   "execution_count": 4,
   "metadata": {
    "scrolled": true
   },
   "outputs": [
    {
     "name": "stderr",
     "output_type": "stream",
     "text": [
      "C:\\ProgramData\\Anaconda3\\lib\\site-packages\\IPython\\core\\interactiveshell.py:3063: DtypeWarning: Columns (14,33,34) have mixed types.Specify dtype option on import or set low_memory=False.\n",
      "  interactivity=interactivity, compiler=compiler, result=result)\n"
     ]
    },
    {
     "name": "stdout",
     "output_type": "stream",
     "text": [
      "Index(['department', 'college_code', 'seat_no', 'elective', 'result', 'c1',\n",
      "       'c2', 'c3', 'c4', 'c5', 'c1_th', 'c1_tw', 'c1_or', 'c1_in', 'c2_th',\n",
      "       'c2_tw', 'c2_or', 'c2_in', 'c3_th', 'c3_tw', 'c3_or', 'c3_in', 'c4_th',\n",
      "       'c4_tw', 'c4_or', 'c4_in', 'c5_tw', 'c5_or', 'sem_1', 'sem_2', 'sem_3',\n",
      "       'sem_4', 'sem_5', 'sem_6', 'sem_7', 'sem_8', 'cgpi'],\n",
      "      dtype='object')\n"
     ]
    },
    {
     "name": "stderr",
     "output_type": "stream",
     "text": [
      "C:\\ProgramData\\Anaconda3\\lib\\site-packages\\pandas\\core\\generic.py:6746: SettingWithCopyWarning: \n",
      "A value is trying to be set on a copy of a slice from a DataFrame\n",
      "\n",
      "See the caveats in the documentation: https://pandas.pydata.org/pandas-docs/stable/user_guide/indexing.html#returning-a-view-versus-a-copy\n",
      "  self._update_inplace(new_data)\n",
      "C:\\ProgramData\\Anaconda3\\lib\\site-packages\\ipykernel_launcher.py:80: SettingWithCopyWarning: \n",
      "A value is trying to be set on a copy of a slice from a DataFrame.\n",
      "Try using .loc[row_indexer,col_indexer] = value instead\n",
      "\n",
      "See the caveats in the documentation: https://pandas.pydata.org/pandas-docs/stable/user_guide/indexing.html#returning-a-view-versus-a-copy\n",
      "C:\\ProgramData\\Anaconda3\\lib\\site-packages\\ipykernel_launcher.py:81: SettingWithCopyWarning: \n",
      "A value is trying to be set on a copy of a slice from a DataFrame.\n",
      "Try using .loc[row_indexer,col_indexer] = value instead\n",
      "\n",
      "See the caveats in the documentation: https://pandas.pydata.org/pandas-docs/stable/user_guide/indexing.html#returning-a-view-versus-a-copy\n"
     ]
    }
   ],
   "source": [
    "\n",
    "#import data from csv\n",
    "\n",
    "results=pd.read_csv('./final.csv',sep=',', error_bad_lines=False, index_col=False)\n",
    "#removing unique and unwanted columns for eda/ml purposes\n",
    "\n",
    "results.drop(['university', 'page_no',  'exam_held_on',\n",
    "        'result_date','c6','c6_tw', 'c6_or'],1,inplace =True)\n",
    "\n",
    "# view columns of data set \n",
    "print(results.columns)\n",
    "\n",
    "                                                                                                                                                                                                          \n",
    "#to view all  columns\n",
    "\n",
    "pd.set_option('display.max_columns', None)\n",
    "\n",
    "\n",
    "\n",
    "\n",
    "#to remove characters from string of numbers\n",
    "\n",
    "for x in ['c1_th', 'c1_tw', 'c1_or', 'c1_in', 'c2_th', 'c2_tw',\n",
    "           'c2_or', 'c2_in', 'c3_th', 'c3_tw', 'c3_or', 'c3_in', 'c4_th', 'c4_tw',\n",
    "           'c4_or', 'c4_in', 'c5_tw', 'c5_or','sem_3', 'sem_4', 'sem_5', 'sem_6', 'sem_7', 'sem_8', 'cgpi','college_code']:\n",
    "    \n",
    "    #print(x)                                              \n",
    "\n",
    "    results[x] = results[x].apply(lambda i: i.replace('[','').replace(']','').replace(\"'\",\"\").replace(\"(\",\"\").replace(\")\",\"\")) \n",
    "\n",
    "\n",
    "    if x == 'college_code':\n",
    "        results[x].replace('(?<![\\w\\d])NAME(?![\\w\\d])(:)','',regex=True, inplace = True)\n",
    "        \n",
    "    \n",
    "    if x != 'college_code':\n",
    "        results[x].replace('[^0-9.]','',regex=True, inplace = True)\n",
    "        results[x]=pd.to_numeric(results[x])\n",
    "        \n",
    "# creating integer based columns list and converting string based integer to integer\n",
    "int_col = ['c1_th', 'c1_tw', 'c1_or', 'c1_in', 'c2_th', 'c2_tw',\n",
    "       'c2_or', 'c2_in', 'c3_th', 'c3_tw', 'c3_or', 'c3_in', 'c4_th', 'c4_tw',\n",
    "       'c4_or', 'c4_in', 'c5_tw', 'sem_1', 'sem_2', 'sem_3',\n",
    "       'sem_4', 'sem_5', 'sem_6','c5_or','sem_7', 'sem_8', 'cgpi']\n",
    "departments= results.department.unique()\n",
    "\n",
    "# to find the null replace them with the zeros and drop sem marks with zeros\n",
    "results.fillna(0,inplace=True)\n",
    "for x in ['sem_1', 'sem_2', 'sem_3',\n",
    "       'sem_4', 'sem_5', 'sem_6', 'sem_7', 'sem_8', 'cgpi']:\n",
    "        results = results[(results[x]!=0) & (results['c1_or']<50)]\n",
    "        \n",
    "        \n",
    "        \n",
    "\n",
    "# creating new data frame of passed students \n",
    "\n",
    "passed = results[results['result']=='P']\n",
    "\n",
    "colleges = results['college_code'].unique()\n",
    "\n",
    "# filling the null values with respective colleges mean \n",
    "\n",
    "# for i in ['c1_th', 'c1_tw', 'c1_or', 'c1_in', 'c2_th', 'c2_tw',\n",
    "#        'c2_or', 'c2_in', 'c3_th', 'c3_tw', 'c3_or', 'c3_in', 'c4_th', 'c4_tw',\n",
    "#        'c4_or', 'c4_in', 'c5_tw','c5_or',]:\n",
    "#     for x in colleges:\n",
    "#         #print(passed[i].loc[passed['college_code']==x].mean(),str(x),i)\n",
    "#         passed.fillna((0),inplace=True)\n",
    "\n",
    "\n",
    "# creating new dataset for diploma students \n",
    "\n",
    "diploma = passed[passed['sem_1']==\"['Diploma']\"]\n",
    "\n",
    "regular = passed[passed['sem_1']!=\"['Diploma']\"]\n",
    "#to remove characters from string of numbers\n",
    "\n",
    "for x in ['sem_1','sem_2']:\n",
    "    regular[x].replace('[^0-9.]','',regex=True, inplace = True)\n",
    "    regular[x] = regular[x].apply(lambda i: i.replace('[','').replace(']','').replace(\"'\",\"\").replace(\"(\",\"\").replace(\")\",\"\")) \n",
    "    regular[x]=pd.to_numeric(regular[x])\n",
    "     \n",
    "\n",
    "regular.to_csv(\"regular.csv\")\n",
    "diploma.to_csv(\"diploma.csv\")"
   ]
  },
  {
   "cell_type": "code",
   "execution_count": 9,
   "metadata": {},
   "outputs": [
    {
     "data": {
      "text/plain": [
       "Index(['department', 'college_code', 'seat_no', 'elective', 'result', 'c1',\n",
       "       'c2', 'c3', 'c4', 'c5', 'c1_th', 'c1_tw', 'c1_or', 'c1_in', 'c2_th',\n",
       "       'c2_tw', 'c2_or', 'c2_in', 'c3_th', 'c3_tw', 'c3_or', 'c3_in', 'c4_th',\n",
       "       'c4_tw', 'c4_or', 'c4_in', 'c5_tw', 'c5_or', 'sem_1', 'sem_2', 'sem_3',\n",
       "       'sem_4', 'sem_5', 'sem_6', 'sem_7', 'sem_8', 'cgpi'],\n",
       "      dtype='object')"
      ]
     },
     "execution_count": 9,
     "metadata": {},
     "output_type": "execute_result"
    }
   ],
   "source": [
    "regular.columns"
   ]
  },
  {
   "cell_type": "markdown",
   "metadata": {},
   "source": [
    "# Model building"
   ]
  },
  {
   "cell_type": "code",
   "execution_count": 49,
   "metadata": {},
   "outputs": [],
   "source": [
    "data =  regular.filter(['department', 'college_code',\n",
    "                        'sem_1','sem_2', 'sem_3', 'sem_4', 'sem_5', \n",
    "                        'sem_6', 'sem_7', 'sem_8'], axis=1)"
   ]
  },
  {
   "cell_type": "code",
   "execution_count": null,
   "metadata": {},
   "outputs": [],
   "source": []
  },
  {
   "cell_type": "code",
   "execution_count": 50,
   "metadata": {},
   "outputs": [],
   "source": [
    "final = pd.get_dummies(data,columns=['department', 'college_code'],drop_first=True)"
   ]
  },
  {
   "cell_type": "code",
   "execution_count": 101,
   "metadata": {
    "scrolled": true
   },
   "outputs": [],
   "source": [
    "def run_model(new):\n",
    "    \n",
    "    X = final.drop('sem_8',1)\n",
    "    y = final['sem_8']\n",
    "    X_train,X_test,y_train,y_test = train_test_split(X,y,test_size=0.33,random_state=13)\n",
    "    regressor = LinearRegression()  \n",
    "    regressor.fit(X_train, y_train) #training the algorithm\n",
    "    y_pred = regressor.predict(X_test)\n",
    "    print('maximum Error : ' +str( max_error(y_test,y_pred)))\n",
    "    df = pd.DataFrame({'Actual': y_test, 'Predicted': y_pred})\n",
    "    df1 = df.head(90)\n",
    "    print('Mean Absolute Error:', metrics.mean_absolute_error(y_test, y_pred))  \n",
    "    print('Mean Squared Error:', metrics.mean_squared_error(y_test, y_pred))  \n",
    "    print('Root Mean Squared Error:', np.sqrt(metrics.mean_squared_error(y_test, y_pred)))\n",
    "    print('R Squared :', r2_score(y_test, y_pred))\n",
    "    print(df1.head(3))\n",
    "    df1.plot(kind='bar',figsize=(10,8))\n",
    "\n",
    "    plt.show()"
   ]
  },
  {
   "cell_type": "code",
   "execution_count": null,
   "metadata": {},
   "outputs": [],
   "source": []
  },
  {
   "cell_type": "code",
   "execution_count": 102,
   "metadata": {},
   "outputs": [
    {
     "name": "stdout",
     "output_type": "stream",
     "text": [
      "maximum Error : 2.027119330742745\n",
      "Mean Absolute Error: 0.3544560464313688\n",
      "Mean Squared Error: 0.2015320684593144\n",
      "Root Mean Squared Error: 0.4489232322561558\n",
      "R Squared : 0.6357168101286013\n",
      "       Actual  Predicted\n",
      "12296    8.04   7.635999\n",
      "696      7.88   7.418465\n",
      "48121    8.16   8.607439\n"
     ]
    },
    {
     "data": {
      "image/png": "[encoded data removed]",
      "text/plain": [
       "<Figure size 720x576 with 1 Axes>"
      ]
     },
     "metadata": {
      "needs_background": "light"
     },
     "output_type": "display_data"
    }
   ],
   "source": [
    "run_model(final)"
   ]
  },
  {
   "cell_type": "markdown",
   "metadata": {},
   "source": [
    "## Test with only sem 1 marks"
   ]
  },
  {
   "cell_type": "code",
   "execution_count": 52,
   "metadata": {},
   "outputs": [
    {
     "name": "stderr",
     "output_type": "stream",
     "text": [
      "C:\\Users\\rushi\\Anaconda3\\lib\\site-packages\\ipykernel_launcher.py:18: SettingWithCopyWarning: \n",
      "A value is trying to be set on a copy of a slice from a DataFrame.\n",
      "Try using .loc[row_indexer,col_indexer] = value instead\n",
      "\n",
      "See the caveats in the documentation: https://pandas.pydata.org/pandas-docs/stable/user_guide/indexing.html#returning-a-view-versus-a-copy\n"
     ]
    },
    {
     "name": "stdout",
     "output_type": "stream",
     "text": [
      "maximum Error : 1.4880366050066467\n",
      "Mean Absolute Error: 0.3581936761422147\n",
      "Mean Squared Error: 0.1982932085084126\n",
      "Root Mean Squared Error: 0.44530125590257724\n",
      "R Squared : 0.6564885557794327\n"
     ]
    },
    {
     "data": {
      "image/png": "[encoded data removed]",
      "text/plain": [
       "<Figure size 720x576 with 1 Axes>"
      ]
     },
     "metadata": {
      "needs_background": "light"
     },
     "output_type": "display_data"
    }
   ],
   "source": [
    "X = data.drop('sem_8',1)\n",
    "y = data['sem_8']\n",
    "X_train,X_test,y_train,y_test = train_test_split(X,y,test_size=0.01,random_state=13)\n",
    "regressor = LinearRegression()\n",
    "    \n",
    "\n",
    "\n",
    "\n",
    "# finding and replacing values with 3 conditions on columns \n",
    "\n",
    "for x in ['sem_2',\n",
    " 'sem_3', 'sem_4', 'sem_5', 'sem_6',\n",
    " 'sem_7']:\n",
    "    for y in colleges:\n",
    "        \n",
    "        for z in departments:\n",
    "            difference  = X_test[((X_test['college_code']==y) & (X_test['department']==z))]['sem_1']-X_train[(X_train['college_code']==y) & (X_train['department']==z)]['sem_1'].mean()\n",
    "            X_test[((X_test['college_code']==y) & (X_test['department']==z))][x] = (X_train[(X_train['college_code']==y) & (X_train['department']==z)][x])+difference\n",
    "\n",
    "\n",
    "X_train = X_train.append(X_test,ignore_index=True)\n",
    "\n",
    "\n",
    "\n",
    "\n",
    "#X_test = pd.get_dummies(X_test,columns=['department', 'college_code'],drop_first=True)\n",
    "X_train = pd.get_dummies(X_train,columns=['department', 'college_code'],drop_first=True)\n",
    "\n",
    "X_test = X_train[28006:]\n",
    "\n",
    "X_train[28006:].index\n",
    "\n",
    "X_train = X_train[:28006]\n",
    "\n",
    "\n",
    "\n",
    "regressor.fit(X_train, y_train) #training the algorithm\n",
    "y_pred = regressor.predict(X_test)\n",
    "print('maximum Error : ' +str( max_error(y_test,y_pred)))\n",
    "df = pd.DataFrame({'Actual': y_test, 'Predicted': y_pred})\n",
    "df1 = df.head(90)\n",
    "print('Mean Absolute Error:', metrics.mean_absolute_error(y_test, y_pred))  \n",
    "print('Mean Squared Error:', metrics.mean_squared_error(y_test, y_pred))  \n",
    "print('Root Mean Squared Error:', np.sqrt(metrics.mean_squared_error(y_test, y_pred)))\n",
    "print('R Squared :', r2_score(y_test, y_pred))\n",
    "\n",
    "df1.plot(kind='bar',figsize=(10,8))\n",
    "\n",
    "plt.show()"
   ]
  },
  {
   "cell_type": "code",
   "execution_count": null,
   "metadata": {},
   "outputs": [],
   "source": []
  },
  {
   "cell_type": "markdown",
   "metadata": {},
   "source": [
    "## test with sem 1,2"
   ]
  },
  {
   "cell_type": "code",
   "execution_count": 53,
   "metadata": {},
   "outputs": [
    {
     "name": "stderr",
     "output_type": "stream",
     "text": [
      "C:\\Users\\rushi\\Anaconda3\\lib\\site-packages\\ipykernel_launcher.py:17: SettingWithCopyWarning: \n",
      "A value is trying to be set on a copy of a slice from a DataFrame.\n",
      "Try using .loc[row_indexer,col_indexer] = value instead\n",
      "\n",
      "See the caveats in the documentation: https://pandas.pydata.org/pandas-docs/stable/user_guide/indexing.html#returning-a-view-versus-a-copy\n"
     ]
    },
    {
     "name": "stdout",
     "output_type": "stream",
     "text": [
      "maximum Error : 1.4880366050066467\n",
      "Mean Absolute Error: 0.3581936761422147\n",
      "Mean Squared Error: 0.1982932085084126\n",
      "Root Mean Squared Error: 0.44530125590257724\n",
      "R Squared : 0.6564885557794327\n"
     ]
    },
    {
     "data": {
      "image/png": "[encoded data removed]",
      "text/plain": [
       "<Figure size 720x576 with 1 Axes>"
      ]
     },
     "metadata": {
      "needs_background": "light"
     },
     "output_type": "display_data"
    }
   ],
   "source": [
    "X = data.drop('sem_8',1)\n",
    "y = data['sem_8']\n",
    "X_train,X_test,y_train,y_test = train_test_split(X,y,test_size=0.01,random_state=13)\n",
    "regressor = LinearRegression()\n",
    "    \n",
    "\n",
    "regular.columns\n",
    "\n",
    "# finding and replacing values with 3 conditions on columns \n",
    "\n",
    "for x in ['sem_3', 'sem_4', 'sem_5', 'sem_6',\n",
    " 'sem_7']:\n",
    "    for y in colleges:\n",
    "        \n",
    "        for z in departments:\n",
    "            difference  = X_test[((X_test['college_code']==y) & (X_test['department']==z))]['sem_1']-X_train[(X_train['college_code']==y) & (X_train['department']==z)]['sem_1'].mean()\n",
    "            X_test[((X_test['college_code']==y) & (X_test['department']==z))][x] = (X_train[(X_train['college_code']==y) & (X_train['department']==z)][x])+difference\n",
    "\n",
    "\n",
    "X_train = X_train.append(X_test,ignore_index=True)\n",
    "\n",
    "\n",
    "\n",
    "\n",
    "#X_test = pd.get_dummies(X_test,columns=['department', 'college_code'],drop_first=True)\n",
    "X_train = pd.get_dummies(X_train,columns=['department', 'college_code'],drop_first=True)\n",
    "\n",
    "X_test = X_train[28006:]\n",
    "\n",
    "X_train[28006:].index\n",
    "\n",
    "X_train = X_train[:28006]\n",
    "\n",
    "\n",
    "\n",
    "regressor.fit(X_train, y_train) #training the algorithm\n",
    "y_pred = regressor.predict(X_test)\n",
    "print('maximum Error : ' +str( max_error(y_test,y_pred)))\n",
    "df = pd.DataFrame({'Actual': y_test, 'Predicted': y_pred})\n",
    "df1 = df.head(90)\n",
    "print('Mean Absolute Error:', metrics.mean_absolute_error(y_test, y_pred))  \n",
    "print('Mean Squared Error:', metrics.mean_squared_error(y_test, y_pred))  \n",
    "print('Root Mean Squared Error:', np.sqrt(metrics.mean_squared_error(y_test, y_pred)))\n",
    "print('R Squared :', r2_score(y_test, y_pred))\n",
    "\n",
    "df1.plot(kind='bar',figsize=(10,8))\n",
    "\n",
    "plt.show()"
   ]
  },
  {
   "cell_type": "markdown",
   "metadata": {},
   "source": [
    " ## test with sem 1,2,3  "
   ]
  },
  {
   "cell_type": "code",
   "execution_count": 54,
   "metadata": {},
   "outputs": [
    {
     "name": "stderr",
     "output_type": "stream",
     "text": [
      "C:\\Users\\rushi\\Anaconda3\\lib\\site-packages\\ipykernel_launcher.py:17: SettingWithCopyWarning: \n",
      "A value is trying to be set on a copy of a slice from a DataFrame.\n",
      "Try using .loc[row_indexer,col_indexer] = value instead\n",
      "\n",
      "See the caveats in the documentation: https://pandas.pydata.org/pandas-docs/stable/user_guide/indexing.html#returning-a-view-versus-a-copy\n"
     ]
    },
    {
     "name": "stdout",
     "output_type": "stream",
     "text": [
      "maximum Error : 1.4880366050066467\n",
      "Mean Absolute Error: 0.3581936761422147\n",
      "Mean Squared Error: 0.1982932085084126\n",
      "Root Mean Squared Error: 0.44530125590257724\n",
      "R Squared : 0.6564885557794327\n"
     ]
    },
    {
     "data": {
      "image/png": "[encoded data removed]",
      "text/plain": [
       "<Figure size 720x576 with 1 Axes>"
      ]
     },
     "metadata": {
      "needs_background": "light"
     },
     "output_type": "display_data"
    }
   ],
   "source": [
    "X = data.drop('sem_8',1)\n",
    "y = data['sem_8']\n",
    "X_train,X_test,y_train,y_test = train_test_split(X,y,test_size=0.01,random_state=13)\n",
    "regressor = LinearRegression()\n",
    "    \n",
    "\n",
    "\n",
    "\n",
    "# finding and replacing values with 3 conditions on columns \n",
    "\n",
    "for x in [ 'sem_4', 'sem_5', 'sem_6',\n",
    " 'sem_7']:\n",
    "    for y in colleges:\n",
    "        \n",
    "        for z in departments:\n",
    "            difference  = X_test[((X_test['college_code']==y) & (X_test['department']==z))]['sem_1']-X_train[(X_train['college_code']==y) & (X_train['department']==z)]['sem_1'].mean()\n",
    "            X_test[((X_test['college_code']==y) & (X_test['department']==z))][x] = (X_train[(X_train['college_code']==y) & (X_train['department']==z)][x])+difference\n",
    "\n",
    "\n",
    "X_train = X_train.append(X_test,ignore_index=True)\n",
    "\n",
    "\n",
    "\n",
    "\n",
    "#X_test = pd.get_dummies(X_test,columns=['department', 'college_code'],drop_first=True)\n",
    "X_train = pd.get_dummies(X_train,columns=['department', 'college_code'],drop_first=True)\n",
    "\n",
    "X_test = X_train[28006:]\n",
    "\n",
    "X_train[28006:].index\n",
    "\n",
    "X_train = X_train[:28006]\n",
    "\n",
    "\n",
    "\n",
    "regressor.fit(X_train, y_train) #training the algorithm\n",
    "y_pred = regressor.predict(X_test)\n",
    "print('maximum Error : ' +str( max_error(y_test,y_pred)))\n",
    "df = pd.DataFrame({'Actual': y_test, 'Predicted': y_pred})\n",
    "df1 = df.head(90)\n",
    "print('Mean Absolute Error:', metrics.mean_absolute_error(y_test, y_pred))  \n",
    "print('Mean Squared Error:', metrics.mean_squared_error(y_test, y_pred))  \n",
    "print('Root Mean Squared Error:', np.sqrt(metrics.mean_squared_error(y_test, y_pred)))\n",
    "print('R Squared :', r2_score(y_test, y_pred))\n",
    "\n",
    "df1.plot(kind='bar',figsize=(10,8))\n",
    "\n",
    "plt.show()"
   ]
  },
  {
   "cell_type": "markdown",
   "metadata": {},
   "source": [
    "## test with sem 1,2,3,4"
   ]
  },
  {
   "cell_type": "code",
   "execution_count": 55,
   "metadata": {},
   "outputs": [
    {
     "name": "stderr",
     "output_type": "stream",
     "text": [
      "C:\\Users\\rushi\\Anaconda3\\lib\\site-packages\\ipykernel_launcher.py:17: SettingWithCopyWarning: \n",
      "A value is trying to be set on a copy of a slice from a DataFrame.\n",
      "Try using .loc[row_indexer,col_indexer] = value instead\n",
      "\n",
      "See the caveats in the documentation: https://pandas.pydata.org/pandas-docs/stable/user_guide/indexing.html#returning-a-view-versus-a-copy\n"
     ]
    },
    {
     "name": "stdout",
     "output_type": "stream",
     "text": [
      "maximum Error : 1.4880366050066467\n",
      "Mean Absolute Error: 0.3581936761422147\n",
      "Mean Squared Error: 0.1982932085084126\n",
      "Root Mean Squared Error: 0.44530125590257724\n",
      "R Squared : 0.6564885557794327\n"
     ]
    },
    {
     "data": {
      "image/png": "[encoded data removed]",
      "text/plain": [
       "<Figure size 720x576 with 1 Axes>"
      ]
     },
     "metadata": {
      "needs_background": "light"
     },
     "output_type": "display_data"
    }
   ],
   "source": [
    "X = data.drop('sem_8',1)\n",
    "y = data['sem_8']\n",
    "X_train,X_test,y_train,y_test = train_test_split(X,y,test_size=0.01,random_state=13)\n",
    "regressor = LinearRegression()\n",
    "    \n",
    "\n",
    "\n",
    "\n",
    "# finding and replacing values with 3 conditions on columns \n",
    "\n",
    "for x in [ 'sem_5', 'sem_6',\n",
    " 'sem_7']:\n",
    "    for y in colleges:\n",
    "        \n",
    "        for z in departments:\n",
    "            difference  = X_test[((X_test['college_code']==y) & (X_test['department']==z))]['sem_1']-X_train[(X_train['college_code']==y) & (X_train['department']==z)]['sem_1'].mean()\n",
    "            X_test[((X_test['college_code']==y) & (X_test['department']==z))][x] = (X_train[(X_train['college_code']==y) & (X_train['department']==z)][x])+difference\n",
    "\n",
    "\n",
    "X_train = X_train.append(X_test,ignore_index=True)\n",
    "\n",
    "\n",
    "\n",
    "\n",
    "#X_test = pd.get_dummies(X_test,columns=['department', 'college_code'],drop_first=True)\n",
    "X_train = pd.get_dummies(X_train,columns=['department', 'college_code'],drop_first=True)\n",
    "\n",
    "X_test = X_train[28006:]\n",
    "\n",
    "X_train[28006:].index\n",
    "\n",
    "X_train = X_train[:28006]\n",
    "\n",
    "\n",
    "\n",
    "regressor.fit(X_train, y_train) #training the algorithm\n",
    "y_pred = regressor.predict(X_test)\n",
    "print('maximum Error : ' +str( max_error(y_test,y_pred)))\n",
    "df = pd.DataFrame({'Actual': y_test, 'Predicted': y_pred})\n",
    "df1 = df.head(90)\n",
    "print('Mean Absolute Error:', metrics.mean_absolute_error(y_test, y_pred))  \n",
    "print('Mean Squared Error:', metrics.mean_squared_error(y_test, y_pred))  \n",
    "print('Root Mean Squared Error:', np.sqrt(metrics.mean_squared_error(y_test, y_pred)))\n",
    "print('R Squared :', r2_score(y_test, y_pred))\n",
    "\n",
    "df1.plot(kind='bar',figsize=(10,8))\n",
    "\n",
    "plt.show()"
   ]
  },
  {
   "cell_type": "markdown",
   "metadata": {},
   "source": [
    "## test with sem 1,2,3,4,5"
   ]
  },
  {
   "cell_type": "code",
   "execution_count": 56,
   "metadata": {},
   "outputs": [
    {
     "name": "stderr",
     "output_type": "stream",
     "text": [
      "C:\\Users\\rushi\\Anaconda3\\lib\\site-packages\\ipykernel_launcher.py:17: SettingWithCopyWarning: \n",
      "A value is trying to be set on a copy of a slice from a DataFrame.\n",
      "Try using .loc[row_indexer,col_indexer] = value instead\n",
      "\n",
      "See the caveats in the documentation: https://pandas.pydata.org/pandas-docs/stable/user_guide/indexing.html#returning-a-view-versus-a-copy\n"
     ]
    },
    {
     "name": "stdout",
     "output_type": "stream",
     "text": [
      "maximum Error : 1.4880366050066467\n",
      "Mean Absolute Error: 0.3581936761422147\n",
      "Mean Squared Error: 0.1982932085084126\n",
      "Root Mean Squared Error: 0.44530125590257724\n",
      "R Squared : 0.6564885557794327\n"
     ]
    },
    {
     "data": {
      "image/png": "[encoded data removed]",
      "text/plain": [
       "<Figure size 720x576 with 1 Axes>"
      ]
     },
     "metadata": {
      "needs_background": "light"
     },
     "output_type": "display_data"
    }
   ],
   "source": [
    "X = data.drop('sem_8',1)\n",
    "y = data['sem_8']\n",
    "X_train,X_test,y_train,y_test = train_test_split(X,y,test_size=0.01,random_state=13)\n",
    "regressor = LinearRegression()\n",
    "    \n",
    "\n",
    "\n",
    "\n",
    "# finding and replacing values with 3 conditions on columns \n",
    "\n",
    "for x in [ 'sem_6',\n",
    " 'sem_7']:\n",
    "    for y in colleges:\n",
    "        \n",
    "        for z in departments:\n",
    "            difference  = X_test[((X_test['college_code']==y) & (X_test['department']==z))]['sem_1']-X_train[(X_train['college_code']==y) & (X_train['department']==z)]['sem_1'].mean()\n",
    "            X_test[((X_test['college_code']==y) & (X_test['department']==z))][x] = (X_train[(X_train['college_code']==y) & (X_train['department']==z)][x])+difference\n",
    "\n",
    "\n",
    "X_train = X_train.append(X_test,ignore_index=True)\n",
    "\n",
    "\n",
    "\n",
    "\n",
    "#X_test = pd.get_dummies(X_test,columns=['department', 'college_code'],drop_first=True)\n",
    "X_train = pd.get_dummies(X_train,columns=['department', 'college_code'],drop_first=True)\n",
    "\n",
    "X_test = X_train[28006:]\n",
    "\n",
    "X_train[28006:].index\n",
    "\n",
    "X_train = X_train[:28006]\n",
    "\n",
    "\n",
    "\n",
    "regressor.fit(X_train, y_train) #training the algorithm\n",
    "y_pred = regressor.predict(X_test)\n",
    "print('maximum Error : ' +str( max_error(y_test,y_pred)))\n",
    "df = pd.DataFrame({'Actual': y_test, 'Predicted': y_pred})\n",
    "df1 = df.head(90)\n",
    "print('Mean Absolute Error:', metrics.mean_absolute_error(y_test, y_pred))  \n",
    "print('Mean Squared Error:', metrics.mean_squared_error(y_test, y_pred))  \n",
    "print('Root Mean Squared Error:', np.sqrt(metrics.mean_squared_error(y_test, y_pred)))\n",
    "print('R Squared :', r2_score(y_test, y_pred))\n",
    "\n",
    "df1.plot(kind='bar',figsize=(10,8))\n",
    "\n",
    "plt.show()"
   ]
  },
  {
   "cell_type": "markdown",
   "metadata": {},
   "source": [
    "## test with sem 1,2,3,4,5,6"
   ]
  },
  {
   "cell_type": "code",
   "execution_count": 57,
   "metadata": {},
   "outputs": [
    {
     "name": "stderr",
     "output_type": "stream",
     "text": [
      "C:\\Users\\rushi\\Anaconda3\\lib\\site-packages\\ipykernel_launcher.py:16: SettingWithCopyWarning: \n",
      "A value is trying to be set on a copy of a slice from a DataFrame.\n",
      "Try using .loc[row_indexer,col_indexer] = value instead\n",
      "\n",
      "See the caveats in the documentation: https://pandas.pydata.org/pandas-docs/stable/user_guide/indexing.html#returning-a-view-versus-a-copy\n",
      "  app.launch_new_instance()\n"
     ]
    },
    {
     "name": "stdout",
     "output_type": "stream",
     "text": [
      "maximum Error : 1.4880366050066467\n",
      "Mean Absolute Error: 0.3581936761422147\n",
      "Mean Squared Error: 0.1982932085084126\n",
      "Root Mean Squared Error: 0.44530125590257724\n",
      "R Squared : 0.6564885557794327\n"
     ]
    },
    {
     "data": {
      "image/png": "[encoded data removed]",
      "text/plain": [
       "<Figure size 720x576 with 1 Axes>"
      ]
     },
     "metadata": {
      "needs_background": "light"
     },
     "output_type": "display_data"
    }
   ],
   "source": [
    "X = data.drop('sem_8',1)\n",
    "y = data['sem_8']\n",
    "X_train,X_test,y_train,y_test = train_test_split(X,y,test_size=0.01,random_state=13)\n",
    "regressor = LinearRegression()\n",
    "    \n",
    "\n",
    "\n",
    "\n",
    "# finding and replacing values with 3 conditions on columns \n",
    "\n",
    "for x in [  'sem_7']:\n",
    "    for y in colleges:\n",
    "        \n",
    "        for z in departments:\n",
    "            difference  = X_test[((X_test['college_code']==y) & (X_test['department']==z))]['sem_1']-X_train[(X_train['college_code']==y) & (X_train['department']==z)]['sem_1'].mean()\n",
    "            X_test[((X_test['college_code']==y) & (X_test['department']==z))][x] = (X_train[(X_train['college_code']==y) & (X_train['department']==z)][x])+difference\n",
    "\n",
    "\n",
    "X_train = X_train.append(X_test,ignore_index=True)\n",
    "\n",
    "\n",
    "\n",
    "\n",
    "#X_test = pd.get_dummies(X_test,columns=['department', 'college_code'],drop_first=True)\n",
    "X_train = pd.get_dummies(X_train,columns=['department', 'college_code'],drop_first=True)\n",
    "\n",
    "X_test = X_train[28006:]\n",
    "\n",
    "X_train[28006:].index\n",
    "\n",
    "X_train = X_train[:28006]\n",
    "\n",
    "\n",
    "\n",
    "regressor.fit(X_train, y_train) #training the algorithm\n",
    "y_pred = regressor.predict(X_test)\n",
    "print('maximum Error : ' +str( max_error(y_test,y_pred)))\n",
    "df = pd.DataFrame({'Actual': y_test, 'Predicted': y_pred})\n",
    "df1 = df.head(90)\n",
    "print('Mean Absolute Error:', metrics.mean_absolute_error(y_test, y_pred))  \n",
    "print('Mean Squared Error:', metrics.mean_squared_error(y_test, y_pred))  \n",
    "print('Root Mean Squared Error:', np.sqrt(metrics.mean_squared_error(y_test, y_pred)))\n",
    "print('R Squared :', r2_score(y_test, y_pred))\n",
    "\n",
    "df1.plot(kind='bar',figsize=(10,8))\n",
    "\n",
    "plt.show()"
   ]
  },
  {
   "cell_type": "code",
   "execution_count": 58,
   "metadata": {},
   "outputs": [
    {
     "name": "stdout",
     "output_type": "stream",
     "text": [
      "maximum Error : 1.4880366050066467\n",
      "Mean Absolute Error: 0.3581936761422147\n",
      "Mean Squared Error: 0.1982932085084126\n",
      "Root Mean Squared Error: 0.44530125590257724\n",
      "R Squared : 0.6564885557794327\n"
     ]
    },
    {
     "data": {
      "image/png": "[encoded data removed]",
      "text/plain": [
       "<Figure size 720x576 with 1 Axes>"
      ]
     },
     "metadata": {
      "needs_background": "light"
     },
     "output_type": "display_data"
    }
   ],
   "source": [
    "\n",
    "X = data.drop('sem_8',1)\n",
    "y = data['sem_8']\n",
    "X_train,X_test,y_train,y_test = train_test_split(X,y,test_size=0.01,random_state=13)\n",
    "regressor = LinearRegression()\n",
    "    \n",
    "\n",
    "\n",
    "\n",
    "# finding and replacing values with 3 conditions on columns \n",
    "\n",
    "# for x in [ 'sem_4', 'sem_5', 'sem_6',\n",
    "#  'sem_7']:\n",
    "#     for y in colleges:\n",
    "        \n",
    "#         for z in departments:\n",
    "#             difference  = X_test[((X_test['college_code']==y) & (X_test['department']==z))]['sem_1']-X_train[(X_train['college_code']==y) & (X_train['department']==z)]['sem_1'].mean()\n",
    "#             X_test[((X_test['college_code']==y) & (X_test['department']==z))][x] = (X_train[(X_train['college_code']==y) & (X_train['department']==z)][x])+difference\n",
    "\n",
    "\n",
    "X_train = X_train.append(X_test,ignore_index=True)\n",
    "\n",
    "\n",
    "\n",
    "\n",
    "#X_test = pd.get_dummies(X_test,columns=['department', 'college_code'],drop_first=True)\n",
    "X_train = pd.get_dummies(X_train,columns=['department', 'college_code'],drop_first=True)\n",
    "\n",
    "X_test = X_train[28006:]\n",
    "\n",
    "X_train[28006:].index\n",
    "\n",
    "X_train = X_train[:28006]\n",
    "\n",
    "\n",
    "\n",
    "regressor.fit(X_train, y_train) #training the algorithm\n",
    "y_pred = regressor.predict(X_test)\n",
    "print('maximum Error : ' +str( max_error(y_test,y_pred)))\n",
    "df = pd.DataFrame({'Actual': y_test, 'Predicted': y_pred})\n",
    "df1 = df.head(90)\n",
    "print('Mean Absolute Error:', metrics.mean_absolute_error(y_test, y_pred))  \n",
    "print('Mean Squared Error:', metrics.mean_squared_error(y_test, y_pred))  \n",
    "print('Root Mean Squared Error:', np.sqrt(metrics.mean_squared_error(y_test, y_pred)))\n",
    "print('R Squared :', r2_score(y_test, y_pred))\n",
    "\n",
    "df1.plot(kind='bar',figsize=(10,8))\n",
    "\n",
    "plt.show()"
   ]
  },
  {
   "cell_type": "code",
   "execution_count": null,
   "metadata": {},
   "outputs": [],
   "source": []
  },
  {
   "cell_type": "code",
   "execution_count": null,
   "metadata": {},
   "outputs": [],
   "source": []
  },
  {
   "cell_type": "code",
   "execution_count": null,
   "metadata": {},
   "outputs": [],
   "source": []
  },
  {
   "cell_type": "code",
   "execution_count": null,
   "metadata": {},
   "outputs": [],
   "source": [
    "regular.describe()"
   ]
  },
  {
   "cell_type": "code",
   "execution_count": null,
   "metadata": {},
   "outputs": [],
   "source": [
    "results.groupby(['department'])['c1_tw','c2_tw','c3_tw','c4_tw'].max()"
   ]
  },
  {
   "cell_type": "code",
   "execution_count": null,
   "metadata": {},
   "outputs": [],
   "source": [
    "results.groupby(['department'])['c1_or','c2_or','c3_or','c4_or'].max()"
   ]
  },
  {
   "cell_type": "code",
   "execution_count": null,
   "metadata": {},
   "outputs": [],
   "source": [
    "results.groupby(['department'])['c1_in','c2_in','c3_in','c4_in'].max()"
   ]
  },
  {
   "cell_type": "code",
   "execution_count": null,
   "metadata": {},
   "outputs": [],
   "source": [
    "results.groupby(['department'])['c1_th','c1_tw',\n",
    "                         'c1_or', 'c1_in', 'c2_th', 'c2_tw', 'c2_or',\n",
    "                         'c2_in', 'c3_th', 'c3_tw', 'c3_or', 'c3_in',\n",
    "                        'c4_th', 'c4_tw', 'c4_or', 'c4_in', 'c5_tw',\n",
    "                        'sem_1','sem_2', 'sem_3', 'sem_4', 'sem_5', \n",
    "                        'sem_6', 'sem_7', 'sem_8'].max()"
   ]
  },
  {
   "cell_type": "code",
   "execution_count": null,
   "metadata": {},
   "outputs": [],
   "source": [
    "for x in ['sem_1','sem_2', 'sem_3', 'sem_4', 'sem_5','sem_6', 'sem_7', 'sem_8']:\n",
    "    re"
   ]
  },
  {
   "cell_type": "code",
   "execution_count": null,
   "metadata": {},
   "outputs": [],
   "source": []
  },
  {
   "cell_type": "code",
   "execution_count": null,
   "metadata": {},
   "outputs": [],
   "source": []
  },
  {
   "cell_type": "code",
   "execution_count": null,
   "metadata": {},
   "outputs": [],
   "source": []
  },
  {
   "cell_type": "code",
   "execution_count": null,
   "metadata": {},
   "outputs": [],
   "source": []
  },
  {
   "cell_type": "code",
   "execution_count": null,
   "metadata": {},
   "outputs": [],
   "source": []
  },
  {
   "cell_type": "code",
   "execution_count": null,
   "metadata": {},
   "outputs": [],
   "source": [
    "#plotting scatter plot of students in colleges\n",
    "# y-axis values \n",
    "\n",
    "\n",
    "# plotting points as a scatter plot \n",
    "for col in colleges:\n",
    "    for stud in range(len(regular[regular['college_code']==col])):\n",
    "        #print(stud)\n",
    "        x = ['sem 1', 'sem 2','sem 3', 'sem 4', 'sem 5', 'sem 6', 'sem 7', 'sem 8','cgpi']\n",
    "        y = [regular['sem_1'][stud],regular['sem_2'][stud],regular['sem_3'][stud]\n",
    "             ,regular['sem_4'][stud],regular['sem_5'][stud],regular['sem_6'][stud]\n",
    "             ,regular['sem_7'][stud],regular['sem_8'][stud],regular['cgpi'][stud] ]\n",
    "        plt.scatter(x, y) \n",
    "        plt.yticks([0,1,2,3,4,5,6,7,8,9,10])\n",
    "        # x-axis label \n",
    "        plt.xlabel('Sem') \n",
    "        # frequency label \n",
    "        plt.ylabel('Pointers') \n",
    "        # plot title \n",
    "        plt.title('Semwise result of college code {0}'.format(col)) \n",
    "        # showing legend \n",
    "\n",
    "\n",
    "        # function to show the plot \n",
    "        plt.show()"
   ]
  },
  {
   "cell_type": "code",
   "execution_count": null,
   "metadata": {},
   "outputs": [],
   "source": [
    "#Creating a function to plot semwise of entire result wrt indiviual colleges\n",
    "\n",
    "def plot_sem(y,i):\n",
    "    x = ['1', '2', '3',\n",
    "       '4', '5', '6', '7', '8', 'CGPI']\n",
    "    y = [y[ 'sem_1'],y[ 'sem_2'],y[ 'sem_3'],y[\n",
    "       'sem_4'],y[ 'sem_5'],y[ 'sem_6'],y[ 'sem_7'],y[ 'sem_8'],y[ 'cgpi' ]]\n",
    "    \n",
    "    plt.plot(x,y,label=i,marker='.') \n",
    "    plt.yticks([0,1,2,3,4,5,6,7,8,9,10])\n",
    "   "
   ]
  },
  {
   "cell_type": "code",
   "execution_count": null,
   "metadata": {},
   "outputs": [],
   "source": [
    "#Creating a function to plot termworkwise of entire result wrt indiviual colleges\n",
    "def plot_tw(y,i):\n",
    "    x = ['sem 1', 'sem 2', 'sem 3',\n",
    "       'sem 4', 'sem 5', 'sem 6', 'sem 7', 'sem 8', 'cgpi']\n",
    "    y = [y[ 'sem_1'],y[ 'sem_2'],y[ 'sem_3'],y[\n",
    "       'sem_4'],y[ 'sem_5'],y[ 'sem_6'],y[ 'sem_7'],y[ 'sem_8'],y[ 'cgpi' ]]\n",
    "    \n",
    "    plt.scatter(x,y,label=i) \n",
    "    plt.yticks([0,50])\n",
    "   "
   ]
  },
  {
   "cell_type": "code",
   "execution_count": null,
   "metadata": {},
   "outputs": [],
   "source": [
    "#Creating a function to plot internal of entire result wrt indiviual colleges\n",
    "\n",
    "def plot_internals(y,j):\n",
    "    x = ['c1 tw', 'c1 or', 'c1 in','c2 tw',\n",
    "       'c2 or', 'c2 in', 'c3 tw', 'c3 or', 'c3 in', 'c4 tw',\n",
    "       'c4 or', 'c4 in', 'c5 tw', 'c6 tw', 'c6 or']\n",
    "    y = [y[ 'c1_tw'],y[ 'c1_or'],y[ 'c1_in'],y[ 'c2_tw'],y['c2_or'],y[ 'c2_in'],y[ 'c3_tw'],y[ 'c3_or'],y[ 'c3_in'],y[ 'c4_tw'],y[\n",
    "       'c4_or'],y[ 'c4_in'],y[ 'c5_tw'],y[ 'c6_tw'],y[ 'c6_or']]\n",
    "    \n",
    "    plt.scatter(x,y,label='college code '+j) \n",
    "    plt.yticks([0,8,10,25])\n",
    "    plt.legend(fontsize=12) \n",
    "   "
   ]
  },
  {
   "cell_type": "code",
   "execution_count": null,
   "metadata": {
    "scrolled": true
   },
   "outputs": [],
   "source": [
    "\n",
    "for j in colleges:\n",
    "    #coll = results[results['college_code']=='124'].mean()\n",
    "    plot_sem(regular.mean(),'Mumbai University Mean')\n",
    "    plot_sem(regular[regular['college_code']==j].mean(),'college '+j)\n",
    "     # x-axis label \n",
    "    plt.xlabel('Sem') \n",
    "    # frequency label \n",
    "    plt.ylabel('Pointers') \n",
    "    # plot title \n",
    "    plt.title('Average Semwise result of college code {0}'.format(j)) \n",
    "    \n",
    "    plt.legend(fontsize=12)    \n",
    "\n",
    " # showing legend \n",
    " # function to show the plot \n",
    "    plt.show()\n"
   ]
  },
  {
   "cell_type": "code",
   "execution_count": null,
   "metadata": {},
   "outputs": [],
   "source": [
    "for j in colleges:\n",
    "    #coll = results[results['college_code']=='124'].mean()\n",
    "    plot_sem(regular.mean(),'Mumbai University Mean')\n",
    " \n",
    "    departments = regular[regular['college_code']==j]['department'].unique()\n",
    "    print(departments)\n",
    "    departments.sort()\n",
    "    print( '  '+departments)\n",
    "    for dep in departments:\n",
    "        plot_sem(regular[(regular['college_code']==j) & (regular['department']==dep)].mean(),dep)\n",
    "     # x-axis label \n",
    "    plt.xlabel('Sem') \n",
    "    # frequency label \n",
    "    plt.ylabel('Pointers') \n",
    "    # plot title \n",
    "    plt.title('Departmentwise result of college {0}'.format(j)) \n",
    "    \n",
    "    plt.legend(fontsize=12,loc='center left', bbox_to_anchor=(1, 0.5))    \n",
    "    plt.savefig('Departmentwise '+j+'.png',dpi=300,transparent=True,bbox_inches='tight',orientation='landscape',)\n",
    " # showing legend \n",
    " # function to show the plot \n",
    "    plt.show()\n"
   ]
  },
  {
   "cell_type": "code",
   "execution_count": null,
   "metadata": {},
   "outputs": [],
   "source": [
    "regular.reset_index(inplace=True)\n",
    "for x in range(regular.shape[0]):\n",
    "    if  regular['cgpi'][x]>10:\n",
    "        #print(regular[x])\n",
    "        regular = regular.drop(x,axis=0)\n",
    "    "
   ]
  },
  {
   "cell_type": "code",
   "execution_count": null,
   "metadata": {},
   "outputs": [],
   "source": [
    "regular = regular.filter(['department', 'college_code', 'elective', 'result',\n",
    "       'c1', 'c2', 'c3', 'c4', 'c5', 'c6', 'c1_th', 'c1_tw', 'c1_or', 'c1_in',\n",
    "       'c2_th', 'c2_tw', 'c2_or', 'c2_in', 'c3_th', 'c3_tw', 'c3_or', 'c3_in',\n",
    "       'c4_th', 'c4_tw', 'c4_or', 'c4_in', 'c5_tw', 'c6_tw', 'c6_or', 'sem_1',\n",
    "       'sem_2', 'sem_3', 'sem_4', 'sem_5', 'sem_6', 'sem_7', 'sem_8', 'cgpi'], axis=1)"
   ]
  },
  {
   "cell_type": "code",
   "execution_count": null,
   "metadata": {
    "scrolled": true
   },
   "outputs": [],
   "source": [
    "for x in regular.iterrows():\n",
    "    if x[1]['c1_or']==191:\n",
    "        print(x)\n",
    "    if x[1]['c3_tw']==60:\n",
    "        print(x)"
   ]
  },
  {
   "cell_type": "code",
   "execution_count": null,
   "metadata": {},
   "outputs": [],
   "source": [
    "Q1 = new.quantile(0.25)\n",
    "Q3 = new.quantile(0.75)\n",
    "IQR = Q3 - Q1\n",
    "print(IQR)\n",
    "print(new < (Q1 - 1.5 * (IQR))) |(new> (Q3 + 1.5 * (IQR)))"
   ]
  },
  {
   "cell_type": "code",
   "execution_count": null,
   "metadata": {},
   "outputs": [],
   "source": [
    "regular.dtypes"
   ]
  },
  {
   "cell_type": "code",
   "execution_count": null,
   "metadata": {},
   "outputs": [],
   "source": [
    "\n",
    "def outliers_iqr(ys):\n",
    "    quartile_1, quartile_3 = np.percentile(ys, [25, 75])\n",
    "    iqr = quartile_3 - quartile_1\n",
    "    lower_bound = quartile_1 - (iqr * 1.5)\n",
    "    upper_bound = quartile_3 + (iqr * 1.5)\n",
    "    return np.where((ys > upper_bound) | (ys < lower_bound))"
   ]
  },
  {
   "cell_type": "code",
   "execution_count": null,
   "metadata": {},
   "outputs": [],
   "source": [
    "new = regular.filter(['c1_th', 'c1_tw', 'c1_or', 'c1_in',\n",
    "       'c2_th', 'c2_tw', 'c2_or', 'c2_in', 'c3_th', 'c3_tw', 'c3_or', 'c3_in',\n",
    "       'c4_th', 'c4_tw', 'c4_or', 'c4_in', 'c5_tw', 'c6_tw', 'c6_or', 'sem_1',\n",
    "       'sem_2', 'sem_3', 'sem_4', 'sem_5', 'sem_6', 'sem_7', 'sem_8', 'cgpi'],axis=1)"
   ]
  },
  {
   "cell_type": "code",
   "execution_count": null,
   "metadata": {},
   "outputs": [],
   "source": [
    "outliers_iqr(regular.filter(['c1_th', 'c1_tw', 'c1_or', 'c1_in',\n",
    "       'c2_th', 'c2_tw', 'c2_or', 'c2_in', 'c3_th', 'c3_tw', 'c3_or', 'c3_in',\n",
    "       'c4_th', 'c4_tw', 'c4_or', 'c4_in', 'c5_tw', 'c6_tw', 'c6_or', 'sem_1',\n",
    "       'sem_2', 'sem_3', 'sem_4', 'sem_5', 'sem_6', 'sem_7', 'sem_8', 'cgpi'],axis=1))"
   ]
  },
  {
   "cell_type": "code",
   "execution_count": null,
   "metadata": {},
   "outputs": [],
   "source": [
    "from scipy import stats\n",
    "import numpy as np\n",
    "z = np.abs(stats.zscore(new))\n",
    "print(z)"
   ]
  },
  {
   "cell_type": "code",
   "execution_count": null,
   "metadata": {},
   "outputs": [],
   "source": []
  },
  {
   "cell_type": "code",
   "execution_count": null,
   "metadata": {},
   "outputs": [],
   "source": [
    "nw = regular[(z < 3).all(axis=1)]"
   ]
  },
  {
   "cell_type": "code",
   "execution_count": null,
   "metadata": {
    "scrolled": true
   },
   "outputs": [],
   "source": [
    "import seaborn as sns\n",
    "for x in ['c1', 'c2', 'c3', 'c4', 'c5', 'c6', 'c1_th', 'c1_tw', 'c1_or', 'c1_in',\n",
    "       'c2_th', 'c2_tw', 'c2_or', 'c2_in', 'c3_th', 'c3_tw', 'c3_or', 'c3_in',\n",
    "       'c4_th', 'c4_tw', 'c4_or', 'c4_in', 'c5_tw', 'c6_tw', 'c6_or']:\n",
    "        sns.boxplot(x=regular[x])"
   ]
  },
  {
   "cell_type": "code",
   "execution_count": null,
   "metadata": {},
   "outputs": [],
   "source": [
    "regular.describe()"
   ]
  },
  {
   "cell_type": "code",
   "execution_count": null,
   "metadata": {},
   "outputs": [],
   "source": [
    "for y in ['sem_1','sem_2']:\n",
    "        regular[y].replace('[^0-9.]','',regex=True, inplace = True)\n",
    "        regular[y]= pd.to_numeric(regular[y])"
   ]
  },
  {
   "cell_type": "code",
   "execution_count": null,
   "metadata": {},
   "outputs": [],
   "source": [
    "regular.columns"
   ]
  },
  {
   "cell_type": "code",
   "execution_count": null,
   "metadata": {},
   "outputs": [],
   "source": [
    "regular = passed[(passed['sem_1']).notnull()]\n"
   ]
  },
  {
   "cell_type": "code",
   "execution_count": null,
   "metadata": {
    "scrolled": true
   },
   "outputs": [],
   "source": [
    "#converting diploma students sem 1 & 2 into marks \n",
    "regular.reset_index(inplace=True)\n",
    "regular['Diploma']= 'False'\n",
    "for x in range (regular.shape[0]):\n",
    "    \n",
    "    if regular['sem_1'][x] == 'Diploma':\n",
    "        regular['Diploma'][x] = 'True'\n",
    "        new =regular['cgpi'][x]\n",
    "        regular['sem_1'][x]=new\n",
    "        regular['sem_2'][x]=new\n",
    "for y in ['sem_1','sem_2']:\n",
    "        regular[y].replace('[^0-9.]','',regex=True, inplace = True)\n",
    "        regular[y]= pd.to_numeric(regular[y])"
   ]
  },
  {
   "cell_type": "code",
   "execution_count": null,
   "metadata": {},
   "outputs": [],
   "source": [
    "int_col"
   ]
  }
 ],
 "metadata": {
  "kernelspec": {
   "display_name": "Python 3",
   "language": "python",
   "name": "python3"
  },
  "language_info": {
   "codemirror_mode": {
    "name": "ipython",
    "version": 3
   },
   "file_extension": ".py",
   "mimetype": "text/x-python",
   "name": "python",
   "nbconvert_exporter": "python",
   "pygments_lexer": "ipython3",
   "version": "3.7.6"
  }
 },
 "nbformat": 4,
 "nbformat_minor": 2
}
